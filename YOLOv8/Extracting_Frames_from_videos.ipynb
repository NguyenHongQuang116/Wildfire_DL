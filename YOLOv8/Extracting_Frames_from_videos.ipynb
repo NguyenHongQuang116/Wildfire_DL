{
 "cells": [
  {
   "cell_type": "code",
   "execution_count": 8,
   "id": "f7079b1d-f1bc-467e-9e31-1519fb4eb704",
   "metadata": {},
   "outputs": [],
   "source": [
    "import cv2\n",
    "import os\n",
    "\n",
    "def video_to_frames(video, path_output_dir):\n",
    "    # extract frames from a video and save to directory as 'x.png' where \n",
    "    # x is the frame index\n",
    "    #path_output_dir = \"D:\\DATA\\WildFires\\Frame_day\"\n",
    "    vidcap = cv2.VideoCapture(video)\n",
    "    count = 0\n",
    "    while vidcap.isOpened():\n",
    "        success, image = vidcap.read()\n",
    "        if success:\n",
    "            cv2.imwrite(os.path.join(path_output_dir, \"Korea_Fire_night1\"+'%d.png') % count, image)\n",
    "            count += 1\n",
    "        else:\n",
    "            break\n",
    "    cv2.destroyAllWindows()\n",
    "    vidcap.release()\n",
    "\n",
    "video_to_frames('D:\\DATA\\WildFires\\Korea/Video_2024-08-23_175020.WMV', 'D:\\DATA\\WildFires\\Frames_Korea_night')"
   ]
  },
  {
   "cell_type": "code",
   "execution_count": null,
   "id": "d894e3e1-932a-44bf-806a-6d2e3f8334b8",
   "metadata": {},
   "outputs": [],
   "source": []
  }
 ],
 "metadata": {
  "kernelspec": {
   "display_name": "Python 3 (ipykernel)",
   "language": "python",
   "name": "python3"
  },
  "language_info": {
   "codemirror_mode": {
    "name": "ipython",
    "version": 3
   },
   "file_extension": ".py",
   "mimetype": "text/x-python",
   "name": "python",
   "nbconvert_exporter": "python",
   "pygments_lexer": "ipython3",
   "version": "3.11.5"
  }
 },
 "nbformat": 4,
 "nbformat_minor": 5
}
